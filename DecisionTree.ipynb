{
  "nbformat": 4,
  "nbformat_minor": 0,
  "metadata": {
    "colab": {
      "name": "1510216_DecisionTree.ipynb",
      "version": "0.3.2",
      "provenance": [],
      "collapsed_sections": [],
      "include_colab_link": true
    },
    "kernelspec": {
      "name": "python3",
      "display_name": "Python 3"
    }
  },
  "cells": [
    {
      "cell_type": "markdown",
      "metadata": {
        "id": "view-in-github",
        "colab_type": "text"
      },
      "source": [
        "<a href=\"https://colab.research.google.com/github/dolongbien/ML2018/blob/master/DecisionTree.ipynb\" target=\"_parent\"><img src=\"https://colab.research.google.com/assets/colab-badge.svg\" alt=\"Open In Colab\"/></a>"
      ]
    },
    {
      "metadata": {
        "id": "JKSrWVNrAb7O",
        "colab_type": "text"
      },
      "cell_type": "markdown",
      "source": [
        "**Import packages**"
      ]
    },
    {
      "metadata": {
        "id": "F2HhAE8T-1ND",
        "colab_type": "code",
        "colab": {}
      },
      "cell_type": "code",
      "source": [
        "import math\n",
        "import copy\n",
        "from collections import Counter"
      ],
      "execution_count": 0,
      "outputs": []
    },
    {
      "metadata": {
        "id": "rDOJxVIbAiIz",
        "colab_type": "text"
      },
      "cell_type": "markdown",
      "source": [
        "**Utility classes**"
      ]
    },
    {
      "metadata": {
        "id": "Cc3CiKkr_s0x",
        "colab_type": "code",
        "colab": {}
      },
      "cell_type": "code",
      "source": [
        "class Node:\n",
        "    def __init__(self, root):\n",
        "        self.root = root\n",
        "        self.children = []\n",
        "\n",
        "    def addChild(self, children):\n",
        "        self.children.append(children)\n",
        "\n",
        "\n",
        "class Example:\n",
        "    def __init__(self):\n",
        "        self.attributeDict = {}\n",
        "        self.label = None\n",
        "\n",
        "    def addAtribute(self, attribute, value):\n",
        "        self.attributeDict[attribute] = value\n",
        "\n",
        "    def setLabel(self, label):\n",
        "        self.label = label\n",
        "\n",
        "\n",
        "class DecisionTree:\n",
        "\n",
        "    def __init__(self):\n",
        "        self.examples = []\n",
        "        self.labels = []\n",
        "        self.attributeList = []\n",
        "        self.valueListDict = {}\n",
        "        self.tree = None\n",
        "\n",
        "    def load_data(self, file):\n",
        "        header_line = file.readline().split()\n",
        "        for name in header_line[:-1:]:  # ignore the label name\n",
        "            self.attributeList.append(name)\n",
        "        for line in file:\n",
        "            example = Example()\n",
        "            valueList = line.strip().split()\n",
        "            if valueList[-1].lower() == 'yes':\n",
        "                example.setLabel(True)\n",
        "            else:\n",
        "                example.setLabel(False)\n",
        "            # build label list of tree\n",
        "            self.labels.append(example.label)\n",
        "\n",
        "            for i, attribute in enumerate(self.attributeList):\n",
        "                example.addAtribute(attribute=attribute, value=valueList[i])\n",
        "                if attribute not in self.valueListDict:\n",
        "                    self.valueListDict[attribute] = [valueList[i]]\n",
        "                else:\n",
        "                    if valueList[i] not in self.valueListDict[attribute]:\n",
        "                        self.valueListDict[attribute].append(valueList[i])\n",
        "                        # value list always a SET (distinct value)\n",
        "            self.examples.append(example)\n",
        "        print(\"Number of example:\", len(self.examples))\n",
        "\n",
        "    def train(self):\n",
        "        self.tree = DTL(current_examples=self.examples,parentExamples=self.examples,attributes=self.attributeList,valueListDict=self.valueListDict)\n"
      ],
      "execution_count": 0,
      "outputs": []
    },
    {
      "metadata": {
        "id": "Uu1ZXIZoApDi",
        "colab_type": "text"
      },
      "cell_type": "markdown",
      "source": [
        "**Making calculation**"
      ]
    },
    {
      "metadata": {
        "id": "FTEzak08_w9j",
        "colab_type": "code",
        "colab": {}
      },
      "cell_type": "code",
      "source": [
        "'''\n",
        "for every attribute/feature:\n",
        "       1.H(S) Calculate the entropy of current state S (example set)\n",
        "       2.H(S,A_i) Calculate Remainder (entropy with respect to the attribute A_i)\n",
        "       3.IG(S,A_i) = H(S) - H(S,A_i) : IG for current attribute\n",
        "'''\n",
        "\n",
        "\n",
        "def IG(attribute, examples, values_of_this_att):\n",
        "    '''\n",
        "        1. Each possible value in current attribute, filtrate examples whose Attribute=value (ie Outlook=sunny,...)\n",
        "        2. Dictionary : value --> set of corresponding examples\n",
        "            (ex Attr = Outlook, Dict:{sunny=[ex1,ex2,ex9,ex12], rain=[ex3,ex5], ...}\n",
        "        3. Calculate IG for current attribute on filtrated examples\n",
        "        '''\n",
        "    ig = 0\n",
        "    value_exampleDict = {} # each value in attribute ---> set of its examples\n",
        "\n",
        "    '''-----------------Step 1,2'''\n",
        "    for value in values_of_this_att: #valuelist is distinct values\n",
        "        sub_examples = []\n",
        "        for example in examples:\n",
        "            # an example {Outlook=[sunny],Temp=[hot],Hum=[high],wind=[week],play=[no]}\n",
        "            if example.attributeDict[attribute] == value:\n",
        "                sub_examples.append(example)\n",
        "        value_exampleDict[value] = sub_examples\n",
        "    '''-----------------Step 3'''\n",
        "    remainder = remainder_calculate(value_exampleDict, examples)\n",
        "    entropy = entropy_calculate(examples)\n",
        "    ig = entropy - remainder\n",
        "    return ig\n",
        "  \n",
        "  \n",
        "def remainder_calculate(exampleDict, examples):\n",
        "  '''\n",
        "  :param exampleDict: value ----> set of examples\n",
        "  :param examples: current state of example set (S)\n",
        "  :return: H(S,A = value)\n",
        "  '''\n",
        "  remainder = 0\n",
        "  for value in exampleDict:\n",
        "      probability = len(exampleDict[value])/len(examples)\n",
        "      entropy = entropy_calculate(exampleDict[value])\n",
        "      remainder += probability*entropy\n",
        "  return remainder\n",
        "\n",
        "\n",
        "def entropy_calculate(examples):\n",
        "    '''\n",
        "    :param examples: set of examples, p_i = (n_i/(pos+neg))\n",
        "    :return: entropy value of current example set I(+,-) = -sum(p*log2(p))\n",
        "    '''\n",
        "    positive,negative = count_label(examples)\n",
        "    entropyBit = 0\n",
        "    if positive*negative == 0:\n",
        "        return 0\n",
        "    probability = [positive/len(examples), negative/len(examples)]\n",
        "    for p in probability:\n",
        "        entropyBit += p*math.log2(p)\n",
        "    return (-1)*entropyBit\n",
        "\n",
        "\n",
        "def count_label(examples):\n",
        "    '''\n",
        "    :param examples: example set\n",
        "    :return: number of positive & negative example\n",
        "    '''\n",
        "    positive = 0\n",
        "    negative = 0\n",
        "    for example in examples:\n",
        "        if example.label:\n",
        "            positive += 1\n",
        "        else:\n",
        "            negative += 1\n",
        "    return positive, negative\n",
        "\n",
        "\n",
        "def majority_label(examples): # Majority==binary classifier; Plurality when it comes to Multi-classifier\n",
        "\n",
        "    label_list = []\n",
        "    for example in examples:\n",
        "        label_list.append(example.label)\n",
        "    data = Counter(label_list)\n",
        "    return data.most_common(1)[0][0]\n",
        "\n",
        "\n",
        "def print_tree(node, level):\n",
        "    for child in node.children:\n",
        "        if level > 0:\n",
        "            print(\"|\", end=\"\")\n",
        "        for i in range(level):\n",
        "            print(\"\\t\", end=\"\")\n",
        "\n",
        "        if type(child[1]) == bool:\n",
        "            print(node.root, \"=\", child[0] + \":\", str(child[1]))\n",
        "        else:\n",
        "            print(node.root, \"=\", child[0])\n",
        "            print_tree(child[1], level + 1)\n",
        "\n"
      ],
      "execution_count": 0,
      "outputs": []
    },
    {
      "metadata": {
        "id": "JrRarP_h_-N7",
        "colab_type": "code",
        "colab": {}
      },
      "cell_type": "code",
      "source": [
        ""
      ],
      "execution_count": 0,
      "outputs": []
    },
    {
      "metadata": {
        "id": "t5WBiVUpAvty",
        "colab_type": "text"
      },
      "cell_type": "markdown",
      "source": [
        "**Main method**"
      ]
    },
    {
      "metadata": {
        "id": "wd493f9IAUZ1",
        "colab_type": "code",
        "colab": {}
      },
      "cell_type": "code",
      "source": [
        "def main():\n",
        "    dt = DecisionTree()\n",
        "    file = open('bar.txt')\n",
        "    dt.load_data(file)\n",
        "    dt.train()\n",
        "    print(\"------------ DECISION TREE --------------\\n\")\n",
        "    print_tree(dt.tree, 0)"
      ],
      "execution_count": 0,
      "outputs": []
    },
    {
      "metadata": {
        "id": "tG2fCEifBtO5",
        "colab_type": "text"
      },
      "cell_type": "markdown",
      "source": [
        "**Dataset 1: bar.txt**\n",
        "\n",
        "```\n",
        "alt\tbar\tfri\thun pat price rain res type est wait\n",
        "yes\tno\tno\tyes\tsome\t3\tno\tyes\tFrench\t10\tyes\n",
        "yes no  no  yes full    1   no  no  Thai    30  no\n",
        "no  yes no  no  some    1   no  no  Burger  10  yes\n",
        "yes no  yes yes full    1   yes no  Thai    30  yes\n",
        "yes no  yes no  full    3   no  yes French  60 no\n",
        "no  yes no  yes some    2   yes yes Italian 10  yes\n",
        "no  yes no  no  none    1   yes no  Burger  10  no\n",
        "no  no  no  yes some    2   yes yes Thai    10  yes\n",
        "no  yes yes no  full    1   yes no  Burger  60  no\n",
        "yes yes yes yes full    3   no  yes Italian 30  no\n",
        "no  no  no  no  none    1   no  no  Thai    10  no\n",
        "yes yes yes yes full    1   no  no  Burger  30  yes\n",
        "```\n",
        "\n"
      ]
    },
    {
      "metadata": {
        "id": "eYmWy4pVB6UD",
        "colab_type": "text"
      },
      "cell_type": "markdown",
      "source": [
        "**Output Tree**\n",
        "\n",
        "\n",
        "```\n",
        "pat = some: True\n",
        "pat = full\n",
        "|\thun = yes\n",
        "|\t\ttype = French: False\n",
        "|\t\ttype = Thai\n",
        "|\t\t\tfri = no: False\n",
        "|\t\t\tfri = yes: True\n",
        "|\t\ttype = Burger: True\n",
        "|\t\ttype = Italian: False\n",
        "|\thun = no: False\n",
        "pat = none: False\n",
        "```\n",
        "\n"
      ]
    },
    {
      "metadata": {
        "id": "HThYMhWFCsw0",
        "colab_type": "text"
      },
      "cell_type": "markdown",
      "source": [
        "**Dataset 2: Play tennis (tennis.txt)**\n",
        "\n",
        "\n",
        "```\n",
        "outlook\ttemperature\thumidity\twind\tplaytennis\n",
        "sunny\thot\thigh\tweak\tno\n",
        "sunny\thot\thigh\tstrong\tno\n",
        "overcast\thot\thigh\tweak\tyes\n",
        "rain\tmild\thigh\tweak\tyes\n",
        "rain\tcool\tnormal\tweak\tyes\n",
        "rain\tcool\tnormal\tstrong\tno\n",
        "overcast\tcool\tnormal\tstrong\tyes\n",
        "sunny\tmild\thigh\tweak\tno\n",
        "sunny\tcool\tnormal\tweak\tyes\n",
        "rain\tmild\tnormal\tweak\tyes\n",
        "sunny\tmild\tnormal\tstrong\tyes\n",
        "overcast\tmild\thigh\tstrong\tyes\n",
        "overcast\thot\tnormal\tweak\tyes\n",
        "rain\tmild\thigh\tstrong\tno\n",
        "```\n",
        "\n"
      ]
    },
    {
      "metadata": {
        "id": "25miqw_eC6VE",
        "colab_type": "text"
      },
      "cell_type": "markdown",
      "source": [
        "**Output tree:**\n",
        "\n",
        "\n",
        "```\n",
        "outlook = sunny\n",
        "|\thumidity = high: False\n",
        "|\thumidity = normal: True\n",
        "outlook = overcast: True\n",
        "outlook = rain\n",
        "|\twind = weak: True\n",
        "|\twind = strong: False\n",
        "```\n",
        "\n"
      ]
    },
    {
      "metadata": {
        "id": "wYhnY94pBjLD",
        "colab_type": "code",
        "colab": {}
      },
      "cell_type": "code",
      "source": [
        ""
      ],
      "execution_count": 0,
      "outputs": []
    },
    {
      "metadata": {
        "id": "407aJxetq857",
        "colab_type": "text"
      },
      "cell_type": "markdown",
      "source": [
        "# *Using Skitlearn on same dataset & entropy criteria*"
      ]
    },
    {
      "metadata": {
        "id": "upaObhvdrK0R",
        "colab_type": "code",
        "colab": {}
      },
      "cell_type": "code",
      "source": [
        "import pandas as pd\n",
        "from sklearn.tree import DecisionTreeClassifier\n",
        "from sklearn.model_selection import train_test_split\n",
        "from sklearn import tree\n",
        "import pydot\n",
        "from io import StringIO\n",
        "import os\n",
        "\n",
        "os.environ[\"PATH\"] += os.pathsep + 'C:/Program Files (x86)/Graphviz2.38/bin/'\n",
        "\n",
        "df = pd.read_csv(\"tennis.csv\", delimiter=\"\\t\")\n",
        "#df = pd.read_csv(\"bar.csv\", delimiter=\",\")\n",
        "\n",
        "attributeNames = [v for v in df.head(0)]\n",
        "\n",
        "className = attributeNames.pop(-1)\n",
        "features = attributeNames\n",
        "\n",
        "\n",
        "dtree = DecisionTreeClassifier(criterion = \"entropy\")\n",
        "\n",
        "X = pd.get_dummies(df[attributeNames],drop_first=True)\n",
        "Y = df[className]\n",
        "# X_train, X_test, y_train, y_test = train_test_split(X, Y, test_size=0.2)\n",
        "dtree.fit(X, Y)\n",
        "dotfile = StringIO()\n",
        "tree.export_graphviz(dtree, out_file=dotfile)\n",
        "(graph,) = pydot.graph_from_dot_data(dotfile.getvalue())\n",
        "graph.write_png(\"dtree.png\")"
      ],
      "execution_count": 0,
      "outputs": []
    },
    {
      "metadata": {
        "id": "TnBd_sEJrNiO",
        "colab_type": "text"
      },
      "cell_type": "markdown",
      "source": [
        "**Dataset: bar.csv**\n",
        "\n",
        "\n",
        "```\n",
        "alt,bar,fri,hun,pat,price,rain,res,type,est,wait\n",
        "yes,no,no,yes,some,3,no,yes,French,10,yes\n",
        "yes,no,no,yes,full,1,no,no,Thai,30,no\n",
        "no,yes,no,no,some,1,no,no,Burger,10,yes\n",
        "yes,no,yes,yes,full,1,yes,no,Thai,30,yes\n",
        "yes,no,yes,no,full,3,no,yes,French,60,no\n",
        "no,yes,no,yes,some,2,yes,yes,Italian,10,yes\n",
        "no,yes,no,no,none,1,yes,no,Burger,10,no\n",
        "no,no,no,yes,some,2,yes,yes,Thai,10,yes\n",
        "no,yes,yes,no,full,1,yes,no,Burger,60,no\n",
        "yes,yes,yes,yes,full,3,no,yes,Italian,30,no\n",
        "no,no,no,no,none,1,no,no,Thai,10,no\n",
        "yes,yes,yes,yes,full,1,no,no,Burger,30,yes\n",
        "\n",
        "```\n",
        "\n"
      ]
    },
    {
      "metadata": {
        "id": "hH8Zugv5rZj3",
        "colab_type": "text"
      },
      "cell_type": "markdown",
      "source": [
        "**Output tree:**\n",
        "<a href=\"https://ibb.co/fbxOyV\"><img src=\"https://image.ibb.co/jyJ7QA/dtree.png\" alt=\"dtree\" border=\"0\"></a><br /><a target='_blank' href='https://aluminumsulfate.net/aluminum-oxide'>Bar DT</a><br />"
      ]
    },
    {
      "metadata": {
        "id": "d4VMybNCxgzq",
        "colab_type": "text"
      },
      "cell_type": "markdown",
      "source": [
        "**Dataset 2: Play tennis tennis.csv**\n",
        "<a href=\"https://ibb.co/fr8VdV\"><img src=\"https://preview.ibb.co/dJYwJV/dtree.png\" alt=\"dtree\" border=\"0\"></a><br /><a target='_blank' href='https://aluminumsulfate.net/aluminum-oxide'>Play Tennis DT</a><br />\n"
      ]
    }
  ]
}